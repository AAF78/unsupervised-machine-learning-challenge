{
 "cells": [
  {
   "cell_type": "code",
   "execution_count": 1,
   "metadata": {},
   "outputs": [],
   "source": [
    "#import initial dependencies, more to follow\n",
    "import pandas as pd\n",
    "from pathlib import Path\n",
    "import matplotlib.pyplot as plt\n",
    "from sklearn.preprocessing import StandardScaler\n",
    "from sklearn.decomposition import PCA\n",
    "from sklearn.cluster import KMeans"
   ]
  },
  {
   "cell_type": "markdown",
   "metadata": {},
   "source": [
    "DATA CLEANING AND PRE-PROCESSING"
   ]
  },
  {
   "cell_type": "code",
   "execution_count": 2,
   "metadata": {},
   "outputs": [
    {
     "data": {
      "text/html": [
       "<div>\n",
       "<style scoped>\n",
       "    .dataframe tbody tr th:only-of-type {\n",
       "        vertical-align: middle;\n",
       "    }\n",
       "\n",
       "    .dataframe tbody tr th {\n",
       "        vertical-align: top;\n",
       "    }\n",
       "\n",
       "    .dataframe thead th {\n",
       "        text-align: right;\n",
       "    }\n",
       "</style>\n",
       "<table border=\"1\" class=\"dataframe\">\n",
       "  <thead>\n",
       "    <tr style=\"text-align: right;\">\n",
       "      <th></th>\n",
       "      <th>AGE</th>\n",
       "      <th>SPHEQ</th>\n",
       "      <th>AL</th>\n",
       "      <th>ACD</th>\n",
       "      <th>LT</th>\n",
       "      <th>VCD</th>\n",
       "      <th>SPORTHR</th>\n",
       "      <th>READHR</th>\n",
       "      <th>COMPHR</th>\n",
       "      <th>STUDYHR</th>\n",
       "      <th>TVHR</th>\n",
       "      <th>DIOPTERHR</th>\n",
       "      <th>MOMMY</th>\n",
       "      <th>DADMY</th>\n",
       "      <th>MYOPIC</th>\n",
       "    </tr>\n",
       "  </thead>\n",
       "  <tbody>\n",
       "    <tr>\n",
       "      <th>0</th>\n",
       "      <td>6</td>\n",
       "      <td>-0.052</td>\n",
       "      <td>21.889999</td>\n",
       "      <td>3.690</td>\n",
       "      <td>3.498</td>\n",
       "      <td>14.70</td>\n",
       "      <td>45</td>\n",
       "      <td>8</td>\n",
       "      <td>0</td>\n",
       "      <td>0</td>\n",
       "      <td>10</td>\n",
       "      <td>34</td>\n",
       "      <td>1</td>\n",
       "      <td>1</td>\n",
       "      <td>1</td>\n",
       "    </tr>\n",
       "    <tr>\n",
       "      <th>1</th>\n",
       "      <td>6</td>\n",
       "      <td>0.608</td>\n",
       "      <td>22.379999</td>\n",
       "      <td>3.702</td>\n",
       "      <td>3.392</td>\n",
       "      <td>15.29</td>\n",
       "      <td>4</td>\n",
       "      <td>0</td>\n",
       "      <td>1</td>\n",
       "      <td>1</td>\n",
       "      <td>7</td>\n",
       "      <td>12</td>\n",
       "      <td>1</td>\n",
       "      <td>1</td>\n",
       "      <td>0</td>\n",
       "    </tr>\n",
       "    <tr>\n",
       "      <th>2</th>\n",
       "      <td>6</td>\n",
       "      <td>1.179</td>\n",
       "      <td>22.490000</td>\n",
       "      <td>3.462</td>\n",
       "      <td>3.514</td>\n",
       "      <td>15.52</td>\n",
       "      <td>14</td>\n",
       "      <td>0</td>\n",
       "      <td>2</td>\n",
       "      <td>0</td>\n",
       "      <td>10</td>\n",
       "      <td>14</td>\n",
       "      <td>0</td>\n",
       "      <td>0</td>\n",
       "      <td>0</td>\n",
       "    </tr>\n",
       "    <tr>\n",
       "      <th>3</th>\n",
       "      <td>6</td>\n",
       "      <td>0.525</td>\n",
       "      <td>22.200001</td>\n",
       "      <td>3.862</td>\n",
       "      <td>3.612</td>\n",
       "      <td>14.73</td>\n",
       "      <td>18</td>\n",
       "      <td>11</td>\n",
       "      <td>0</td>\n",
       "      <td>0</td>\n",
       "      <td>4</td>\n",
       "      <td>37</td>\n",
       "      <td>0</td>\n",
       "      <td>1</td>\n",
       "      <td>1</td>\n",
       "    </tr>\n",
       "    <tr>\n",
       "      <th>4</th>\n",
       "      <td>5</td>\n",
       "      <td>0.697</td>\n",
       "      <td>23.290001</td>\n",
       "      <td>3.676</td>\n",
       "      <td>3.454</td>\n",
       "      <td>16.16</td>\n",
       "      <td>14</td>\n",
       "      <td>0</td>\n",
       "      <td>0</td>\n",
       "      <td>0</td>\n",
       "      <td>4</td>\n",
       "      <td>4</td>\n",
       "      <td>1</td>\n",
       "      <td>0</td>\n",
       "      <td>0</td>\n",
       "    </tr>\n",
       "    <tr>\n",
       "      <th>5</th>\n",
       "      <td>6</td>\n",
       "      <td>1.744</td>\n",
       "      <td>22.139999</td>\n",
       "      <td>3.224</td>\n",
       "      <td>3.556</td>\n",
       "      <td>15.36</td>\n",
       "      <td>10</td>\n",
       "      <td>6</td>\n",
       "      <td>2</td>\n",
       "      <td>1</td>\n",
       "      <td>19</td>\n",
       "      <td>44</td>\n",
       "      <td>0</td>\n",
       "      <td>1</td>\n",
       "      <td>0</td>\n",
       "    </tr>\n",
       "    <tr>\n",
       "      <th>6</th>\n",
       "      <td>6</td>\n",
       "      <td>0.683</td>\n",
       "      <td>22.330000</td>\n",
       "      <td>3.186</td>\n",
       "      <td>3.654</td>\n",
       "      <td>15.49</td>\n",
       "      <td>12</td>\n",
       "      <td>7</td>\n",
       "      <td>2</td>\n",
       "      <td>1</td>\n",
       "      <td>8</td>\n",
       "      <td>36</td>\n",
       "      <td>0</td>\n",
       "      <td>1</td>\n",
       "      <td>0</td>\n",
       "    </tr>\n",
       "    <tr>\n",
       "      <th>7</th>\n",
       "      <td>6</td>\n",
       "      <td>1.272</td>\n",
       "      <td>22.389999</td>\n",
       "      <td>3.732</td>\n",
       "      <td>3.584</td>\n",
       "      <td>15.08</td>\n",
       "      <td>12</td>\n",
       "      <td>0</td>\n",
       "      <td>0</td>\n",
       "      <td>0</td>\n",
       "      <td>8</td>\n",
       "      <td>8</td>\n",
       "      <td>0</td>\n",
       "      <td>0</td>\n",
       "      <td>0</td>\n",
       "    </tr>\n",
       "    <tr>\n",
       "      <th>8</th>\n",
       "      <td>7</td>\n",
       "      <td>1.396</td>\n",
       "      <td>22.620001</td>\n",
       "      <td>3.464</td>\n",
       "      <td>3.408</td>\n",
       "      <td>15.74</td>\n",
       "      <td>4</td>\n",
       "      <td>0</td>\n",
       "      <td>3</td>\n",
       "      <td>1</td>\n",
       "      <td>3</td>\n",
       "      <td>12</td>\n",
       "      <td>0</td>\n",
       "      <td>0</td>\n",
       "      <td>0</td>\n",
       "    </tr>\n",
       "    <tr>\n",
       "      <th>9</th>\n",
       "      <td>6</td>\n",
       "      <td>0.972</td>\n",
       "      <td>22.740000</td>\n",
       "      <td>3.504</td>\n",
       "      <td>3.696</td>\n",
       "      <td>15.54</td>\n",
       "      <td>30</td>\n",
       "      <td>5</td>\n",
       "      <td>1</td>\n",
       "      <td>0</td>\n",
       "      <td>10</td>\n",
       "      <td>27</td>\n",
       "      <td>0</td>\n",
       "      <td>0</td>\n",
       "      <td>0</td>\n",
       "    </tr>\n",
       "  </tbody>\n",
       "</table>\n",
       "</div>"
      ],
      "text/plain": [
       "   AGE  SPHEQ         AL    ACD     LT    VCD  SPORTHR  READHR  COMPHR  \\\n",
       "0    6 -0.052  21.889999  3.690  3.498  14.70       45       8       0   \n",
       "1    6  0.608  22.379999  3.702  3.392  15.29        4       0       1   \n",
       "2    6  1.179  22.490000  3.462  3.514  15.52       14       0       2   \n",
       "3    6  0.525  22.200001  3.862  3.612  14.73       18      11       0   \n",
       "4    5  0.697  23.290001  3.676  3.454  16.16       14       0       0   \n",
       "5    6  1.744  22.139999  3.224  3.556  15.36       10       6       2   \n",
       "6    6  0.683  22.330000  3.186  3.654  15.49       12       7       2   \n",
       "7    6  1.272  22.389999  3.732  3.584  15.08       12       0       0   \n",
       "8    7  1.396  22.620001  3.464  3.408  15.74        4       0       3   \n",
       "9    6  0.972  22.740000  3.504  3.696  15.54       30       5       1   \n",
       "\n",
       "   STUDYHR  TVHR  DIOPTERHR  MOMMY  DADMY  MYOPIC  \n",
       "0        0    10         34      1      1       1  \n",
       "1        1     7         12      1      1       0  \n",
       "2        0    10         14      0      0       0  \n",
       "3        0     4         37      0      1       1  \n",
       "4        0     4          4      1      0       0  \n",
       "5        1    19         44      0      1       0  \n",
       "6        1     8         36      0      1       0  \n",
       "7        0     8          8      0      0       0  \n",
       "8        1     3         12      0      0       0  \n",
       "9        0    10         27      0      0       0  "
      ]
     },
     "execution_count": 2,
     "metadata": {},
     "output_type": "execute_result"
    }
   ],
   "source": [
    "# Data loading\n",
    "file_path = Path(\"myopia.csv\")\n",
    "df_myopia = pd.read_csv(file_path)\n",
    "df_myopia.head(10)"
   ]
  },
  {
   "cell_type": "code",
   "execution_count": 3,
   "metadata": {},
   "outputs": [
    {
     "data": {
      "text/plain": [
       "AGE            int64\n",
       "SPHEQ        float64\n",
       "AL           float64\n",
       "ACD          float64\n",
       "LT           float64\n",
       "VCD          float64\n",
       "SPORTHR        int64\n",
       "READHR         int64\n",
       "COMPHR         int64\n",
       "STUDYHR        int64\n",
       "TVHR           int64\n",
       "DIOPTERHR      int64\n",
       "MOMMY          int64\n",
       "DADMY          int64\n",
       "MYOPIC         int64\n",
       "dtype: object"
      ]
     },
     "execution_count": 3,
     "metadata": {},
     "output_type": "execute_result"
    }
   ],
   "source": [
    "df_myopia.dtypes"
   ]
  },
  {
   "cell_type": "code",
   "execution_count": 4,
   "metadata": {},
   "outputs": [
    {
     "name": "stdout",
     "output_type": "stream",
     "text": [
      "Column AGE has 0 null values\n",
      "Column SPHEQ has 0 null values\n",
      "Column AL has 0 null values\n",
      "Column ACD has 0 null values\n",
      "Column LT has 0 null values\n",
      "Column VCD has 0 null values\n",
      "Column SPORTHR has 0 null values\n",
      "Column READHR has 0 null values\n",
      "Column COMPHR has 0 null values\n",
      "Column STUDYHR has 0 null values\n",
      "Column TVHR has 0 null values\n",
      "Column DIOPTERHR has 0 null values\n",
      "Column MOMMY has 0 null values\n",
      "Column DADMY has 0 null values\n",
      "Column MYOPIC has 0 null values\n"
     ]
    }
   ],
   "source": [
    "for column in df_myopia.columns:\n",
    "    print(f\"Column {column} has {df_myopia[column].isnull().sum()} null values\")"
   ]
  },
  {
   "cell_type": "code",
   "execution_count": 5,
   "metadata": {},
   "outputs": [
    {
     "name": "stdout",
     "output_type": "stream",
     "text": [
      "Duplicate entries: 0\n"
     ]
    }
   ],
   "source": [
    "print(f\"Duplicate entries: {df_myopia.duplicated().sum()}\")"
   ]
  },
  {
   "cell_type": "code",
   "execution_count": 6,
   "metadata": {},
   "outputs": [
    {
     "data": {
      "text/html": [
       "<div>\n",
       "<style scoped>\n",
       "    .dataframe tbody tr th:only-of-type {\n",
       "        vertical-align: middle;\n",
       "    }\n",
       "\n",
       "    .dataframe tbody tr th {\n",
       "        vertical-align: top;\n",
       "    }\n",
       "\n",
       "    .dataframe thead th {\n",
       "        text-align: right;\n",
       "    }\n",
       "</style>\n",
       "<table border=\"1\" class=\"dataframe\">\n",
       "  <thead>\n",
       "    <tr style=\"text-align: right;\">\n",
       "      <th></th>\n",
       "      <th>AGE</th>\n",
       "      <th>SPHEQ</th>\n",
       "      <th>AL</th>\n",
       "      <th>ACD</th>\n",
       "      <th>LT</th>\n",
       "      <th>VCD</th>\n",
       "      <th>SPORTHR</th>\n",
       "      <th>READHR</th>\n",
       "      <th>COMPHR</th>\n",
       "      <th>STUDYHR</th>\n",
       "      <th>TVHR</th>\n",
       "      <th>DIOPTERHR</th>\n",
       "      <th>MOMMY</th>\n",
       "      <th>DADMY</th>\n",
       "    </tr>\n",
       "  </thead>\n",
       "  <tbody>\n",
       "    <tr>\n",
       "      <th>0</th>\n",
       "      <td>6</td>\n",
       "      <td>-0.052</td>\n",
       "      <td>21.889999</td>\n",
       "      <td>3.690</td>\n",
       "      <td>3.498</td>\n",
       "      <td>14.70</td>\n",
       "      <td>45</td>\n",
       "      <td>8</td>\n",
       "      <td>0</td>\n",
       "      <td>0</td>\n",
       "      <td>10</td>\n",
       "      <td>34</td>\n",
       "      <td>1</td>\n",
       "      <td>1</td>\n",
       "    </tr>\n",
       "    <tr>\n",
       "      <th>1</th>\n",
       "      <td>6</td>\n",
       "      <td>0.608</td>\n",
       "      <td>22.379999</td>\n",
       "      <td>3.702</td>\n",
       "      <td>3.392</td>\n",
       "      <td>15.29</td>\n",
       "      <td>4</td>\n",
       "      <td>0</td>\n",
       "      <td>1</td>\n",
       "      <td>1</td>\n",
       "      <td>7</td>\n",
       "      <td>12</td>\n",
       "      <td>1</td>\n",
       "      <td>1</td>\n",
       "    </tr>\n",
       "    <tr>\n",
       "      <th>2</th>\n",
       "      <td>6</td>\n",
       "      <td>1.179</td>\n",
       "      <td>22.490000</td>\n",
       "      <td>3.462</td>\n",
       "      <td>3.514</td>\n",
       "      <td>15.52</td>\n",
       "      <td>14</td>\n",
       "      <td>0</td>\n",
       "      <td>2</td>\n",
       "      <td>0</td>\n",
       "      <td>10</td>\n",
       "      <td>14</td>\n",
       "      <td>0</td>\n",
       "      <td>0</td>\n",
       "    </tr>\n",
       "    <tr>\n",
       "      <th>3</th>\n",
       "      <td>6</td>\n",
       "      <td>0.525</td>\n",
       "      <td>22.200001</td>\n",
       "      <td>3.862</td>\n",
       "      <td>3.612</td>\n",
       "      <td>14.73</td>\n",
       "      <td>18</td>\n",
       "      <td>11</td>\n",
       "      <td>0</td>\n",
       "      <td>0</td>\n",
       "      <td>4</td>\n",
       "      <td>37</td>\n",
       "      <td>0</td>\n",
       "      <td>1</td>\n",
       "    </tr>\n",
       "    <tr>\n",
       "      <th>4</th>\n",
       "      <td>5</td>\n",
       "      <td>0.697</td>\n",
       "      <td>23.290001</td>\n",
       "      <td>3.676</td>\n",
       "      <td>3.454</td>\n",
       "      <td>16.16</td>\n",
       "      <td>14</td>\n",
       "      <td>0</td>\n",
       "      <td>0</td>\n",
       "      <td>0</td>\n",
       "      <td>4</td>\n",
       "      <td>4</td>\n",
       "      <td>1</td>\n",
       "      <td>0</td>\n",
       "    </tr>\n",
       "  </tbody>\n",
       "</table>\n",
       "</div>"
      ],
      "text/plain": [
       "   AGE  SPHEQ         AL    ACD     LT    VCD  SPORTHR  READHR  COMPHR  \\\n",
       "0    6 -0.052  21.889999  3.690  3.498  14.70       45       8       0   \n",
       "1    6  0.608  22.379999  3.702  3.392  15.29        4       0       1   \n",
       "2    6  1.179  22.490000  3.462  3.514  15.52       14       0       2   \n",
       "3    6  0.525  22.200001  3.862  3.612  14.73       18      11       0   \n",
       "4    5  0.697  23.290001  3.676  3.454  16.16       14       0       0   \n",
       "\n",
       "   STUDYHR  TVHR  DIOPTERHR  MOMMY  DADMY  \n",
       "0        0    10         34      1      1  \n",
       "1        1     7         12      1      1  \n",
       "2        0    10         14      0      0  \n",
       "3        0     4         37      0      1  \n",
       "4        0     4          4      1      0  "
      ]
     },
     "execution_count": 6,
     "metadata": {},
     "output_type": "execute_result"
    }
   ],
   "source": [
    "# Remove the MYOPIC Column since it creates bias if left\n",
    "df_myopia = df_myopia.drop(columns=[\"MYOPIC\"])\n",
    "\n",
    "df_myopia.head()"
   ]
  },
  {
   "cell_type": "code",
   "execution_count": 7,
   "metadata": {},
   "outputs": [],
   "source": [
    "# Scale the data\n",
    "from sklearn.preprocessing import StandardScaler\n",
    "scaler = StandardScaler()\n",
    "scaled_data = scaler.fit_transform(df_myopia[['AGE', 'SPHEQ', 'AL', \n",
    "                                                'ACD', 'LT', 'VCD', 'SPORTHR', 'READHR', 'COMPHR',\n",
    "                                               'STUDYHR', 'TVHR', 'DIOPTERHR', 'MOMMY']])"
   ]
  },
  {
   "cell_type": "code",
   "execution_count": 8,
   "metadata": {},
   "outputs": [
    {
     "data": {
      "text/plain": [
       "Index(['AGE', 'SPHEQ', 'AL', 'ACD', 'LT', 'VCD', 'SPORTHR', 'READHR', 'COMPHR',\n",
       "       'STUDYHR', 'TVHR', 'DIOPTERHR', 'MOMMY', 'DADMY'],\n",
       "      dtype='object')"
      ]
     },
     "execution_count": 8,
     "metadata": {},
     "output_type": "execute_result"
    }
   ],
   "source": [
    "df_myopia.columns"
   ]
  },
  {
   "cell_type": "code",
   "execution_count": 9,
   "metadata": {},
   "outputs": [
    {
     "data": {
      "text/html": [
       "<div>\n",
       "<style scoped>\n",
       "    .dataframe tbody tr th:only-of-type {\n",
       "        vertical-align: middle;\n",
       "    }\n",
       "\n",
       "    .dataframe tbody tr th {\n",
       "        vertical-align: top;\n",
       "    }\n",
       "\n",
       "    .dataframe thead th {\n",
       "        text-align: right;\n",
       "    }\n",
       "</style>\n",
       "<table border=\"1\" class=\"dataframe\">\n",
       "  <thead>\n",
       "    <tr style=\"text-align: right;\">\n",
       "      <th></th>\n",
       "      <th>SPHEQ</th>\n",
       "      <th>AL</th>\n",
       "      <th>ACD</th>\n",
       "      <th>LT</th>\n",
       "      <th>VCD</th>\n",
       "      <th>SPORTHR</th>\n",
       "      <th>READHR</th>\n",
       "      <th>COMPHR</th>\n",
       "      <th>STUDYHR</th>\n",
       "      <th>TVHR</th>\n",
       "      <th>DIOPTERHR</th>\n",
       "      <th>MOMMY</th>\n",
       "      <th>DADMY</th>\n",
       "    </tr>\n",
       "  </thead>\n",
       "  <tbody>\n",
       "    <tr>\n",
       "      <th>0</th>\n",
       "      <td>-0.420219</td>\n",
       "      <td>-1.363917</td>\n",
       "      <td>-0.892861</td>\n",
       "      <td>0.483784</td>\n",
       "      <td>-0.281443</td>\n",
       "      <td>-1.019792</td>\n",
       "      <td>4.150661</td>\n",
       "      <td>1.697450</td>\n",
       "      <td>-0.689311</td>\n",
       "      <td>-0.672996</td>\n",
       "      <td>0.184058</td>\n",
       "      <td>0.498304</td>\n",
       "      <td>1</td>\n",
       "    </tr>\n",
       "    <tr>\n",
       "      <th>1</th>\n",
       "      <td>-0.420219</td>\n",
       "      <td>-0.308612</td>\n",
       "      <td>-0.171840</td>\n",
       "      <td>0.535910</td>\n",
       "      <td>-0.967997</td>\n",
       "      <td>-0.130763</td>\n",
       "      <td>-0.998898</td>\n",
       "      <td>-0.912062</td>\n",
       "      <td>-0.361875</td>\n",
       "      <td>-0.221409</td>\n",
       "      <td>-0.340932</td>\n",
       "      <td>-0.875088</td>\n",
       "      <td>1</td>\n",
       "    </tr>\n",
       "    <tr>\n",
       "      <th>2</th>\n",
       "      <td>-0.420219</td>\n",
       "      <td>0.604386</td>\n",
       "      <td>-0.009977</td>\n",
       "      <td>-0.506628</td>\n",
       "      <td>-0.177812</td>\n",
       "      <td>0.215809</td>\n",
       "      <td>0.257092</td>\n",
       "      <td>-0.912062</td>\n",
       "      <td>-0.034439</td>\n",
       "      <td>-0.672996</td>\n",
       "      <td>0.184058</td>\n",
       "      <td>-0.750234</td>\n",
       "      <td>0</td>\n",
       "    </tr>\n",
       "    <tr>\n",
       "      <th>3</th>\n",
       "      <td>-0.420219</td>\n",
       "      <td>-0.441325</td>\n",
       "      <td>-0.436703</td>\n",
       "      <td>1.230936</td>\n",
       "      <td>0.456927</td>\n",
       "      <td>-0.974587</td>\n",
       "      <td>0.759488</td>\n",
       "      <td>2.676017</td>\n",
       "      <td>-0.689311</td>\n",
       "      <td>-0.672996</td>\n",
       "      <td>-0.865922</td>\n",
       "      <td>0.685585</td>\n",
       "      <td>1</td>\n",
       "    </tr>\n",
       "    <tr>\n",
       "      <th>4</th>\n",
       "      <td>-1.823978</td>\n",
       "      <td>-0.166306</td>\n",
       "      <td>1.167204</td>\n",
       "      <td>0.422970</td>\n",
       "      <td>-0.566427</td>\n",
       "      <td>1.180178</td>\n",
       "      <td>0.257092</td>\n",
       "      <td>-0.912062</td>\n",
       "      <td>-0.689311</td>\n",
       "      <td>-0.672996</td>\n",
       "      <td>-0.865922</td>\n",
       "      <td>-1.374503</td>\n",
       "      <td>0</td>\n",
       "    </tr>\n",
       "  </tbody>\n",
       "</table>\n",
       "</div>"
      ],
      "text/plain": [
       "      SPHEQ        AL       ACD        LT       VCD   SPORTHR    READHR  \\\n",
       "0 -0.420219 -1.363917 -0.892861  0.483784 -0.281443 -1.019792  4.150661   \n",
       "1 -0.420219 -0.308612 -0.171840  0.535910 -0.967997 -0.130763 -0.998898   \n",
       "2 -0.420219  0.604386 -0.009977 -0.506628 -0.177812  0.215809  0.257092   \n",
       "3 -0.420219 -0.441325 -0.436703  1.230936  0.456927 -0.974587  0.759488   \n",
       "4 -1.823978 -0.166306  1.167204  0.422970 -0.566427  1.180178  0.257092   \n",
       "\n",
       "     COMPHR   STUDYHR      TVHR  DIOPTERHR     MOMMY  DADMY  \n",
       "0  1.697450 -0.689311 -0.672996   0.184058  0.498304      1  \n",
       "1 -0.912062 -0.361875 -0.221409  -0.340932 -0.875088      1  \n",
       "2 -0.912062 -0.034439 -0.672996   0.184058 -0.750234      0  \n",
       "3  2.676017 -0.689311 -0.672996  -0.865922  0.685585      1  \n",
       "4 -0.912062 -0.689311 -0.672996  -0.865922 -1.374503      0  "
      ]
     },
     "execution_count": 9,
     "metadata": {},
     "output_type": "execute_result"
    }
   ],
   "source": [
    "# Create a new df with the transformed data\n",
    "new_df_myopia = pd.DataFrame(scaled_data, columns=df_myopia.columns[1:])\n",
    "new_df_myopia['DADMY'] = df_myopia['DADMY']\n",
    "new_df_myopia.head()"
   ]
  },
  {
   "cell_type": "code",
   "execution_count": 10,
   "metadata": {},
   "outputs": [],
   "source": [
    "# Saving cleaned data\n",
    "file_path = Path(\"myopia_cleaned.csv\")\n",
    "new_df_myopia.to_csv(file_path, index=False)"
   ]
  },
  {
   "cell_type": "markdown",
   "metadata": {},
   "source": [
    "PART II: PCA- DIMENSIONALITY REDUCTION"
   ]
  },
  {
   "cell_type": "code",
   "execution_count": 11,
   "metadata": {},
   "outputs": [
    {
     "data": {
      "text/html": [
       "<div>\n",
       "<style scoped>\n",
       "    .dataframe tbody tr th:only-of-type {\n",
       "        vertical-align: middle;\n",
       "    }\n",
       "\n",
       "    .dataframe tbody tr th {\n",
       "        vertical-align: top;\n",
       "    }\n",
       "\n",
       "    .dataframe thead th {\n",
       "        text-align: right;\n",
       "    }\n",
       "</style>\n",
       "<table border=\"1\" class=\"dataframe\">\n",
       "  <thead>\n",
       "    <tr style=\"text-align: right;\">\n",
       "      <th></th>\n",
       "      <th>SPHEQ</th>\n",
       "      <th>AL</th>\n",
       "      <th>ACD</th>\n",
       "      <th>LT</th>\n",
       "      <th>VCD</th>\n",
       "      <th>SPORTHR</th>\n",
       "      <th>READHR</th>\n",
       "      <th>COMPHR</th>\n",
       "      <th>STUDYHR</th>\n",
       "      <th>TVHR</th>\n",
       "      <th>DIOPTERHR</th>\n",
       "      <th>MOMMY</th>\n",
       "      <th>DADMY</th>\n",
       "    </tr>\n",
       "  </thead>\n",
       "  <tbody>\n",
       "    <tr>\n",
       "      <th>0</th>\n",
       "      <td>-0.420219</td>\n",
       "      <td>-1.363917</td>\n",
       "      <td>-0.892861</td>\n",
       "      <td>0.483784</td>\n",
       "      <td>-0.281443</td>\n",
       "      <td>-1.019792</td>\n",
       "      <td>4.150661</td>\n",
       "      <td>1.697450</td>\n",
       "      <td>-0.689311</td>\n",
       "      <td>-0.672996</td>\n",
       "      <td>0.184058</td>\n",
       "      <td>0.498304</td>\n",
       "      <td>1</td>\n",
       "    </tr>\n",
       "    <tr>\n",
       "      <th>1</th>\n",
       "      <td>-0.420219</td>\n",
       "      <td>-0.308612</td>\n",
       "      <td>-0.171840</td>\n",
       "      <td>0.535910</td>\n",
       "      <td>-0.967997</td>\n",
       "      <td>-0.130763</td>\n",
       "      <td>-0.998898</td>\n",
       "      <td>-0.912062</td>\n",
       "      <td>-0.361875</td>\n",
       "      <td>-0.221409</td>\n",
       "      <td>-0.340932</td>\n",
       "      <td>-0.875088</td>\n",
       "      <td>1</td>\n",
       "    </tr>\n",
       "    <tr>\n",
       "      <th>2</th>\n",
       "      <td>-0.420219</td>\n",
       "      <td>0.604386</td>\n",
       "      <td>-0.009977</td>\n",
       "      <td>-0.506628</td>\n",
       "      <td>-0.177812</td>\n",
       "      <td>0.215809</td>\n",
       "      <td>0.257092</td>\n",
       "      <td>-0.912062</td>\n",
       "      <td>-0.034439</td>\n",
       "      <td>-0.672996</td>\n",
       "      <td>0.184058</td>\n",
       "      <td>-0.750234</td>\n",
       "      <td>0</td>\n",
       "    </tr>\n",
       "    <tr>\n",
       "      <th>3</th>\n",
       "      <td>-0.420219</td>\n",
       "      <td>-0.441325</td>\n",
       "      <td>-0.436703</td>\n",
       "      <td>1.230936</td>\n",
       "      <td>0.456927</td>\n",
       "      <td>-0.974587</td>\n",
       "      <td>0.759488</td>\n",
       "      <td>2.676017</td>\n",
       "      <td>-0.689311</td>\n",
       "      <td>-0.672996</td>\n",
       "      <td>-0.865922</td>\n",
       "      <td>0.685585</td>\n",
       "      <td>1</td>\n",
       "    </tr>\n",
       "    <tr>\n",
       "      <th>4</th>\n",
       "      <td>-1.823978</td>\n",
       "      <td>-0.166306</td>\n",
       "      <td>1.167204</td>\n",
       "      <td>0.422970</td>\n",
       "      <td>-0.566427</td>\n",
       "      <td>1.180178</td>\n",
       "      <td>0.257092</td>\n",
       "      <td>-0.912062</td>\n",
       "      <td>-0.689311</td>\n",
       "      <td>-0.672996</td>\n",
       "      <td>-0.865922</td>\n",
       "      <td>-1.374503</td>\n",
       "      <td>0</td>\n",
       "    </tr>\n",
       "  </tbody>\n",
       "</table>\n",
       "</div>"
      ],
      "text/plain": [
       "      SPHEQ        AL       ACD        LT       VCD   SPORTHR    READHR  \\\n",
       "0 -0.420219 -1.363917 -0.892861  0.483784 -0.281443 -1.019792  4.150661   \n",
       "1 -0.420219 -0.308612 -0.171840  0.535910 -0.967997 -0.130763 -0.998898   \n",
       "2 -0.420219  0.604386 -0.009977 -0.506628 -0.177812  0.215809  0.257092   \n",
       "3 -0.420219 -0.441325 -0.436703  1.230936  0.456927 -0.974587  0.759488   \n",
       "4 -1.823978 -0.166306  1.167204  0.422970 -0.566427  1.180178  0.257092   \n",
       "\n",
       "     COMPHR   STUDYHR      TVHR  DIOPTERHR     MOMMY  DADMY  \n",
       "0  1.697450 -0.689311 -0.672996   0.184058  0.498304      1  \n",
       "1 -0.912062 -0.361875 -0.221409  -0.340932 -0.875088      1  \n",
       "2 -0.912062 -0.034439 -0.672996   0.184058 -0.750234      0  \n",
       "3  2.676017 -0.689311 -0.672996  -0.865922  0.685585      1  \n",
       "4 -0.912062 -0.689311 -0.672996  -0.865922 -1.374503      0  "
      ]
     },
     "execution_count": 11,
     "metadata": {},
     "output_type": "execute_result"
    }
   ],
   "source": [
    "# Load the data\n",
    "file_path_2 = Path(\"myopia_cleaned.csv\")\n",
    "new_df_myopia = pd.read_csv(file_path_2)\n",
    "new_df_myopia.head()"
   ]
  },
  {
   "cell_type": "code",
   "execution_count": 12,
   "metadata": {},
   "outputs": [],
   "source": [
    "# Initialize PCA model\n",
    "pca = PCA(n_components=2)\n",
    "\n",
    "# Get two principal components for the data.\n",
    "myopia_pca = pca.fit_transform(new_df_myopia)"
   ]
  },
  {
   "cell_type": "code",
   "execution_count": 13,
   "metadata": {},
   "outputs": [
    {
     "data": {
      "text/html": [
       "<div>\n",
       "<style scoped>\n",
       "    .dataframe tbody tr th:only-of-type {\n",
       "        vertical-align: middle;\n",
       "    }\n",
       "\n",
       "    .dataframe tbody tr th {\n",
       "        vertical-align: top;\n",
       "    }\n",
       "\n",
       "    .dataframe thead th {\n",
       "        text-align: right;\n",
       "    }\n",
       "</style>\n",
       "<table border=\"1\" class=\"dataframe\">\n",
       "  <thead>\n",
       "    <tr style=\"text-align: right;\">\n",
       "      <th></th>\n",
       "      <th>principal component 1</th>\n",
       "      <th>principal component 2</th>\n",
       "    </tr>\n",
       "  </thead>\n",
       "  <tbody>\n",
       "    <tr>\n",
       "      <th>0</th>\n",
       "      <td>0.505670</td>\n",
       "      <td>1.253243</td>\n",
       "    </tr>\n",
       "    <tr>\n",
       "      <th>1</th>\n",
       "      <td>-0.665101</td>\n",
       "      <td>-1.464905</td>\n",
       "    </tr>\n",
       "    <tr>\n",
       "      <th>2</th>\n",
       "      <td>-0.901125</td>\n",
       "      <td>-0.830794</td>\n",
       "    </tr>\n",
       "    <tr>\n",
       "      <th>3</th>\n",
       "      <td>0.122325</td>\n",
       "      <td>1.131619</td>\n",
       "    </tr>\n",
       "    <tr>\n",
       "      <th>4</th>\n",
       "      <td>-0.412369</td>\n",
       "      <td>-2.775979</td>\n",
       "    </tr>\n",
       "  </tbody>\n",
       "</table>\n",
       "</div>"
      ],
      "text/plain": [
       "   principal component 1  principal component 2\n",
       "0               0.505670               1.253243\n",
       "1              -0.665101              -1.464905\n",
       "2              -0.901125              -0.830794\n",
       "3               0.122325               1.131619\n",
       "4              -0.412369              -2.775979"
      ]
     },
     "execution_count": 13,
     "metadata": {},
     "output_type": "execute_result"
    }
   ],
   "source": [
    "df_myopia_pca = pd.DataFrame(\n",
    "    data=myopia_pca, columns=[\"principal component 1\", \"principal component 2\"]\n",
    ")\n",
    "df_myopia_pca.head()"
   ]
  },
  {
   "cell_type": "code",
   "execution_count": 14,
   "metadata": {},
   "outputs": [
    {
     "data": {
      "text/plain": [
       "array([0.24191828, 0.17815302])"
      ]
     },
     "execution_count": 14,
     "metadata": {},
     "output_type": "execute_result"
    }
   ],
   "source": [
    "pca.explained_variance_ratio_"
   ]
  },
  {
   "cell_type": "markdown",
   "metadata": {},
   "source": [
    "So far, PC1 explains only 24% of the variance, and PC2 explains 18%, for a total of 42% of the total dataset. If another component is added, it may increase the explained variance... or it might not (as it turned out, it only increased the variance by 1% so I removed it).\n",
    "I decided to take the hint and instantiate the amount of variance I want to preserve rather than telling the model repeatedly to increase the number of components to increase variance."
   ]
  },
  {
   "cell_type": "code",
   "execution_count": 15,
   "metadata": {},
   "outputs": [],
   "source": [
    "# PCA model with n = 3 components\n",
    "pca = PCA(n_components=0.90)\n",
    "\n",
    "# Get two principal components for the data.\n",
    "myopia_pca = pca.fit_transform(new_df_myopia)"
   ]
  },
  {
   "cell_type": "code",
   "execution_count": 16,
   "metadata": {},
   "outputs": [
    {
     "data": {
      "text/plain": [
       "array([0.24191828, 0.17815302, 0.09628893, 0.08413271, 0.08015689,\n",
       "       0.07349517, 0.07230436, 0.05955729, 0.04982764])"
      ]
     },
     "execution_count": 16,
     "metadata": {},
     "output_type": "execute_result"
    }
   ],
   "source": [
    "pca.explained_variance_ratio_"
   ]
  },
  {
   "cell_type": "markdown",
   "metadata": {},
   "source": [
    "Dammit. This only explains about 48% of the variance. What fresh Hell is this?"
   ]
  },
  {
   "cell_type": "code",
   "execution_count": 17,
   "metadata": {},
   "outputs": [],
   "source": [
    "from sklearn.manifold import TSNE"
   ]
  },
  {
   "cell_type": "code",
   "execution_count": 18,
   "metadata": {},
   "outputs": [],
   "source": [
    "# Initialize t-SNE model\n",
    "tsne = TSNE(learning_rate=35)"
   ]
  },
  {
   "cell_type": "code",
   "execution_count": 19,
   "metadata": {},
   "outputs": [
    {
     "name": "stderr",
     "output_type": "stream",
     "text": [
      "C:\\Users\\msfte\\anaconda3\\envs\\PythonData\\lib\\site-packages\\sklearn\\manifold\\_t_sne.py:783: FutureWarning: The default initialization in TSNE will change from 'random' to 'pca' in 1.2.\n",
      "  FutureWarning,\n"
     ]
    }
   ],
   "source": [
    "tsne_features = tsne.fit_transform(new_df_myopia)"
   ]
  },
  {
   "cell_type": "code",
   "execution_count": 20,
   "metadata": {},
   "outputs": [
    {
     "data": {
      "text/plain": [
       "(618, 2)"
      ]
     },
     "execution_count": 20,
     "metadata": {},
     "output_type": "execute_result"
    }
   ],
   "source": [
    "tsne_features.shape"
   ]
  },
  {
   "cell_type": "code",
   "execution_count": 21,
   "metadata": {},
   "outputs": [],
   "source": [
    "# Prepare to plot the dataset\n",
    "\n",
    "# The first column of transformed features\n",
    "new_df_myopia['x'] = tsne_features[:,0]\n",
    "\n",
    "# The second column of transformed features\n",
    "new_df_myopia['y'] = tsne_features[:,1]"
   ]
  },
  {
   "cell_type": "code",
   "execution_count": 25,
   "metadata": {
    "scrolled": false
   },
   "outputs": [
    {
     "data": {
      "image/png": "[encoded data removed]",
      "text/plain": [
       "<Figure size 432x288 with 1 Axes>"
      ]
     },
     "metadata": {
      "needs_background": "light"
     },
     "output_type": "display_data"
    }
   ],
   "source": [
    "# Visualize the clusters\n",
    "plt.scatter(new_df_myopia['x'], new_df_myopia['y'])\n",
    "plt.show()"
   ]
  },
  {
   "cell_type": "code",
   "execution_count": null,
   "metadata": {},
   "outputs": [],
   "source": []
  },
  {
   "cell_type": "markdown",
   "metadata": {},
   "source": [
    "It doesn't appear that there are any distinct clusters in this data. Argh."
   ]
  },
  {
   "cell_type": "code",
   "execution_count": 27,
   "metadata": {},
   "outputs": [],
   "source": [
    "labels = new_df_myopia ['DADMY']"
   ]
  },
  {
   "cell_type": "code",
   "execution_count": 28,
   "metadata": {},
   "outputs": [
    {
     "data": {
      "text/plain": [
       "0    310\n",
       "1    308\n",
       "Name: DADMY, dtype: int64"
      ]
     },
     "execution_count": 28,
     "metadata": {},
     "output_type": "execute_result"
    }
   ],
   "source": [
    "labels.value_counts()"
   ]
  },
  {
   "cell_type": "code",
   "execution_count": 29,
   "metadata": {},
   "outputs": [
    {
     "data": {
      "image/png": "[encoded data removed]",
      "text/plain": [
       "<Figure size 432x288 with 1 Axes>"
      ]
     },
     "metadata": {
      "needs_background": "light"
     },
     "output_type": "display_data"
    }
   ],
   "source": [
    "# Visualize the clusters with color\n",
    "plt.scatter(new_df_myopia['x'], new_df_myopia['y'], c=labels)\n",
    "plt.show()"
   ]
  },
  {
   "cell_type": "code",
   "execution_count": null,
   "metadata": {},
   "outputs": [],
   "source": []
  }
 ],
 "metadata": {
  "kernelspec": {
   "display_name": "Python 3 (ipykernel)",
   "language": "python",
   "name": "python3"
  },
  "language_info": {
   "codemirror_mode": {
    "name": "ipython",
    "version": 3
   },
   "file_extension": ".py",
   "mimetype": "text/x-python",
   "name": "python",
   "nbconvert_exporter": "python",
   "pygments_lexer": "ipython3",
   "version": "3.7.7"
  },
  "vscode": {
   "interpreter": {
    "hash": "5ece0f971aac499ab276171574a0e665fa9d63bfa48dcdc6782ae7d2fb7701e3"
   }
  }
 },
 "nbformat": 4,
 "nbformat_minor": 2
}
